{
 "cells": [
  {
   "cell_type": "markdown",
   "metadata": {
    "id": "37puETfgRzzg"
   },
   "source": [
    "# Data Preprocessing Tools"
   ]
  },
  {
   "cell_type": "markdown",
   "metadata": {
    "id": "EoRP98MpR-qj"
   },
   "source": [
    "## Importing the libraries"
   ]
  },
  {
   "cell_type": "code",
   "execution_count": 1,
   "metadata": {},
   "outputs": [
    {
     "name": "stderr",
     "output_type": "stream",
     "text": [
      "Matplotlib is building the font cache; this may take a moment.\n"
     ]
    }
   ],
   "source": [
    "import numpy as np\n",
    "import matplotlib.pyplot as plt\n",
    "import pandas as pd"
   ]
  },
  {
   "cell_type": "markdown",
   "metadata": {
    "id": "RopL7tUZSQkT"
   },
   "source": [
    "## Importing the dataset"
   ]
  },
  {
   "cell_type": "code",
   "execution_count": 2,
   "metadata": {},
   "outputs": [],
   "source": [
    "dataset = pd.read_csv(\"Data.csv\")\n",
    "x = dataset.iloc[:, :-1].values\n",
    "y = dataset.iloc[:, -1].values \n"
   ]
  },
  {
   "cell_type": "markdown",
   "metadata": {},
   "source": [
    "### Understanding Dataset Slicing Notation\n",
    "\n",
    "When working with pandas DataFrames and NumPy arrays, **slicing** is a powerful way to select specific portions of your data. Let's break down the notation used above:\n",
    "\n",
    "#### Basic Slicing Syntax: `[rows, columns]`\n",
    "\n",
    "The general format is `dataset[row_selection, column_selection]` where:\n",
    "- **First position (before comma)**: Selects rows\n",
    "- **Second position (after comma)**: Selects columns\n",
    "\n",
    "#### Row Selection (`:`)\n",
    "- **`:`** means \"select all rows\"\n",
    "- **`0:5`** would select rows 0 through 4 (5 is excluded)\n",
    "- **`10:`** would select from row 10 to the end\n",
    "- **`:20`** would select from the beginning up to row 19\n",
    "\n",
    "#### Column Selection (`:-1`)\n",
    "- **`:`** would select all columns\n",
    "- **`:-1`** selects all columns **except the last one**\n",
    "- **`:3`** would select columns 0, 1, and 2\n",
    "- **`1:`** would select from column 1 to the end\n",
    "- **`[0, 2, 4]`** would select specific columns by index\n",
    "\n",
    "#### Why `:-1` for Features?\n",
    "In machine learning datasets, the convention is often:\n",
    "- **Features (input variables)**: All columns except the last\n",
    "- **Target (output variable)**: The last column\n",
    "\n",
    "So `x = dataset.iloc[:, :-1].values` means:\n",
    "- **`:`** → Take all rows\n",
    "- **`:-1`** → Take all columns except the last one\n",
    "- **`.values`** → Convert from pandas DataFrame to NumPy array\n",
    "\n",
    "And `y = dataset.iloc[:, -1].values` means:\n",
    "- **`:`** → Take all rows  \n",
    "- **`-1`** → Take only the last column (the target variable)\n",
    "\n",
    "#### Negative Indexing\n",
    "- **`-1`** refers to the last element\n",
    "- **`-2`** refers to the second-to-last element\n",
    "- **`:-1`** means \"up to but not including the last element\"\n",
    "- **`-3:`** means \"from the third-to-last element to the end\""
   ]
  },
  {
   "cell_type": "markdown",
   "metadata": {},
   "source": [
    "#### Practical Examples of Slicing\n",
    "\n",
    "Let's see some examples using our dataset to understand how different slicing patterns work:"
   ]
  },
  {
   "cell_type": "code",
   "execution_count": null,
   "metadata": {},
   "outputs": [],
   "source": [
    "# Let's first look at the dataset structure\n",
    "print(\"Dataset shape:\", dataset.shape)\n",
    "print(\"\\nDataset columns:\", dataset.columns.tolist())\n",
    "print(\"\\nFirst 5 rows of the dataset:\")\n",
    "print(dataset.head())"
   ]
  },
  {
   "cell_type": "code",
   "execution_count": null,
   "metadata": {},
   "outputs": [],
   "source": [
    "# Example 1: Select all rows, all columns except the last (features)\n",
    "features = dataset.iloc[:, :-1]\n",
    "print(\"Features (all columns except last):\")\n",
    "print(features.head())\n",
    "print(f\"Shape: {features.shape}\")\n",
    "\n",
    "print(\"\\n\" + \"=\"*50 + \"\\n\")\n",
    "\n",
    "# Example 2: Select all rows, only the last column (target)\n",
    "target = dataset.iloc[:, -1]\n",
    "print(\"Target (last column only):\")\n",
    "print(target.head())\n",
    "print(f\"Shape: {target.shape}\")\n",
    "\n",
    "print(\"\\n\" + \"=\"*50 + \"\\n\")\n",
    "\n",
    "# Example 3: Select first 3 rows, all columns\n",
    "first_three = dataset.iloc[:3, :]\n",
    "print(\"First 3 rows, all columns:\")\n",
    "print(first_three)\n",
    "\n",
    "print(\"\\n\" + \"=\"*50 + \"\\n\")\n",
    "\n",
    "# Example 4: Select all rows, first 2 columns\n",
    "first_two_cols = dataset.iloc[:, :2]\n",
    "print(\"All rows, first 2 columns:\")\n",
    "print(first_two_cols.head())\n",
    "\n",
    "print(\"\\n\" + \"=\"*50 + \"\\n\")\n",
    "\n",
    "# Example 5: Select rows 2-4, columns 1-2\n",
    "subset = dataset.iloc[2:5, 1:3]\n",
    "print(\"Rows 2-4, columns 1-2:\")\n",
    "print(subset)"
   ]
  },
  {
   "cell_type": "code",
   "execution_count": 3,
   "metadata": {},
   "outputs": [
    {
     "name": "stdout",
     "output_type": "stream",
     "text": [
      "[['France' 44.0 72000.0]\n",
      " ['Spain' 27.0 48000.0]\n",
      " ['Germany' 30.0 54000.0]\n",
      " ['Spain' 38.0 61000.0]\n",
      " ['Germany' 40.0 nan]\n",
      " ['France' 35.0 58000.0]\n",
      " ['Spain' nan 52000.0]\n",
      " ['France' 48.0 79000.0]\n",
      " ['Germany' 50.0 83000.0]\n",
      " ['France' 37.0 67000.0]]\n"
     ]
    }
   ],
   "source": [
    "print(x)"
   ]
  },
  {
   "cell_type": "code",
   "execution_count": 4,
   "metadata": {},
   "outputs": [
    {
     "name": "stdout",
     "output_type": "stream",
     "text": [
      "['No' 'Yes' 'No' 'No' 'Yes' 'Yes' 'No' 'Yes' 'No' 'Yes']\n"
     ]
    }
   ],
   "source": [
    "print(y)"
   ]
  },
  {
   "cell_type": "markdown",
   "metadata": {
    "id": "nhfKXNxlSabC"
   },
   "source": [
    "## Taking care of missing data"
   ]
  },
  {
   "cell_type": "code",
   "execution_count": 8,
   "metadata": {},
   "outputs": [],
   "source": [
    "from sklearn.impute import SimpleImputer\n",
    "\n",
    "imputer = SimpleImputer(missing_values=np.nan, strategy=\"mean\")\n",
    "imputer.fit(x[:,1:2])\n",
    "x[:, 1:2] = imputer.transform(x[:,1:2])"
   ]
  },
  {
   "cell_type": "code",
   "execution_count": 9,
   "metadata": {},
   "outputs": [
    {
     "name": "stdout",
     "output_type": "stream",
     "text": [
      "[['France' 44.0 72000.0]\n",
      " ['Spain' 27.0 48000.0]\n",
      " ['Germany' 30.0 54000.0]\n",
      " ['Spain' 38.0 61000.0]\n",
      " ['Germany' 40.0 63777.77777777778]\n",
      " ['France' 35.0 58000.0]\n",
      " ['Spain' 38.77777777777778 52000.0]\n",
      " ['France' 48.0 79000.0]\n",
      " ['Germany' 50.0 83000.0]\n",
      " ['France' 37.0 67000.0]]\n"
     ]
    }
   ],
   "source": [
    "print(x)"
   ]
  },
  {
   "cell_type": "markdown",
   "metadata": {
    "id": "CriG6VzVSjcK"
   },
   "source": [
    "## Encoding categorical data"
   ]
  },
  {
   "cell_type": "markdown",
   "metadata": {
    "id": "AhSpdQWeSsFh"
   },
   "source": [
    "### Encoding the Independent Variable"
   ]
  },
  {
   "cell_type": "markdown",
   "metadata": {
    "id": "DXh8oVSITIc6"
   },
   "source": [
    "### Encoding the Dependent Variable"
   ]
  },
  {
   "cell_type": "markdown",
   "metadata": {
    "id": "qb_vcgm3qZKW"
   },
   "source": [
    "## Splitting the dataset into the Training set and Test set"
   ]
  },
  {
   "cell_type": "markdown",
   "metadata": {
    "id": "TpGqbS4TqkIR"
   },
   "source": [
    "## Feature Scaling"
   ]
  }
 ],
 "metadata": {
  "colab": {
   "authorship_tag": "ABX9TyOihYlX/ooG5h+qw0sLIjn8",
   "collapsed_sections": [],
   "provenance": []
  },
  "kernelspec": {
   "display_name": ".venv (3.14.0)",
   "language": "python",
   "name": "python3"
  },
  "language_info": {
   "codemirror_mode": {
    "name": "ipython",
    "version": 3
   },
   "file_extension": ".py",
   "mimetype": "text/x-python",
   "name": "python",
   "nbconvert_exporter": "python",
   "pygments_lexer": "ipython3",
   "version": "3.14.0"
  }
 },
 "nbformat": 4,
 "nbformat_minor": 0
}
